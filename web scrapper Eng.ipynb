{
 "cells": [
  {
   "cell_type": "code",
   "execution_count": 60,
   "id": "811e8eff-3091-44fb-920f-7372cdc9333c",
   "metadata": {
    "ExecuteTime": {
     "end_time": "2024-02-15T15:57:19.276052Z",
     "start_time": "2024-02-15T15:57:19.265057Z"
    }
   },
   "outputs": [],
   "source": [
    "import requests\n",
    "from bs4 import BeautifulSoup as bs\n",
    "from urllib.request import urlopen\n",
    "import logging"
   ]
  },
  {
   "cell_type": "code",
   "execution_count": 61,
   "id": "4238e01e-a479-4081-8cde-e1d71304671b",
   "metadata": {
    "ExecuteTime": {
     "end_time": "2024-02-15T15:57:19.410093Z",
     "start_time": "2024-02-15T15:57:19.403686Z"
    }
   },
   "outputs": [],
   "source": [
    "flipcart_url = \"https://www.flipkart.com/search?q=\" + \"tv\""
   ]
  },
  {
   "cell_type": "code",
   "execution_count": 62,
   "id": "453b19d4-d454-483b-8e0b-cfd4ba2262c2",
   "metadata": {
    "ExecuteTime": {
     "end_time": "2024-02-15T15:57:19.540133Z",
     "start_time": "2024-02-15T15:57:19.533015Z"
    }
   },
   "outputs": [
    {
     "data": {
      "text/plain": "'https://www.flipkart.com/search?q=tv'"
     },
     "execution_count": 62,
     "metadata": {},
     "output_type": "execute_result"
    }
   ],
   "source": [
    "flipcart_url"
   ]
  },
  {
   "cell_type": "code",
   "execution_count": 63,
   "id": "cdeed42d-3b6d-47b1-980b-59ee8d715e05",
   "metadata": {
    "ExecuteTime": {
     "end_time": "2024-02-15T15:57:20.771728Z",
     "start_time": "2024-02-15T15:57:19.700488Z"
    }
   },
   "outputs": [],
   "source": [
    "urlclient = urlopen(flipcart_url)"
   ]
  },
  {
   "cell_type": "code",
   "execution_count": 64,
   "id": "2e1c9fc0-1e8e-4e02-9dc7-a9d796fe3947",
   "metadata": {
    "ExecuteTime": {
     "end_time": "2024-02-15T15:57:21.398919Z",
     "start_time": "2024-02-15T15:57:20.772358Z"
    }
   },
   "outputs": [],
   "source": [
    "flipcart_page = urlclient.read()"
   ]
  },
  {
   "cell_type": "code",
   "execution_count": 65,
   "id": "7051e647-b8e1-4a97-a8d0-8f8b9975191f",
   "metadata": {
    "ExecuteTime": {
     "end_time": "2024-02-15T15:57:21.459803Z",
     "start_time": "2024-02-15T15:57:21.458435Z"
    }
   },
   "outputs": [],
   "source": [
    "flipcart_html = bs(flipcart_page , 'html.parser')"
   ]
  },
  {
   "cell_type": "code",
   "execution_count": 66,
   "id": "941157fd-b672-49e1-a745-ec2c65a35881",
   "metadata": {
    "ExecuteTime": {
     "end_time": "2024-02-15T15:57:21.463350Z",
     "start_time": "2024-02-15T15:57:21.460799Z"
    }
   },
   "outputs": [
    {
     "data": {
      "text/plain": "'https://www.flipkart.com/dyanora-sigma-108-cm-43-inch-full-hd-led-smart-linux-tv-40-watt-box-speakers-bezel-less-design/p/itmcdbced04b2319?pid=TVSGHZAGFYKGZQ8K&lid=LSTTVSGHZAGFYKGZQ8KUAM8H1&marketplace=FLIPKART&q=tv&store=ckf%2Fczl&srno=s_1_1&otracker=search&otracker1=search&fm=organic&iid=en_xF8tH%2FD493QWU9p74CMkRhAnl%2FZDSt2g4RX8asyXf547oHm6aKW0Vwig1Ae%2FF%2BxpMab4jOA70lzjnpWCWaM8Dw%3D%3D&ppt=sp&ppn=sp&ssid=6vokrwan280000001676982936780&qH=c9a1fdac6e082dd8'"
     },
     "execution_count": 66,
     "metadata": {},
     "output_type": "execute_result"
    }
   ],
   "source": [
    "\"https://www.flipkart.com\"+\"/dyanora-sigma-108-cm-43-inch-full-hd-led-smart-linux-tv-40-watt-box-speakers-bezel-less-design/p/itmcdbced04b2319?pid=TVSGHZAGFYKGZQ8K&lid=LSTTVSGHZAGFYKGZQ8KUAM8H1&marketplace=FLIPKART&q=tv&store=ckf%2Fczl&srno=s_1_1&otracker=search&otracker1=search&fm=organic&iid=en_xF8tH%2FD493QWU9p74CMkRhAnl%2FZDSt2g4RX8asyXf547oHm6aKW0Vwig1Ae%2FF%2BxpMab4jOA70lzjnpWCWaM8Dw%3D%3D&ppt=sp&ppn=sp&ssid=6vokrwan280000001676982936780&qH=c9a1fdac6e082dd8\""
   ]
  },
  {
   "cell_type": "code",
   "execution_count": 67,
   "id": "4b979d12-4f74-4777-b5b3-c48d254a3f93",
   "metadata": {
    "ExecuteTime": {
     "end_time": "2024-02-15T15:57:21.467357Z",
     "start_time": "2024-02-15T15:57:21.465944Z"
    }
   },
   "outputs": [],
   "source": [
    "bigbox = flipcart_html.find_all(\"div\" ,{\"class\":\"_1AtVbE col-12-12\"} )"
   ]
  },
  {
   "cell_type": "code",
   "execution_count": 68,
   "id": "1c696ac3-ad68-4ebe-a523-e5709d3601cc",
   "metadata": {
    "ExecuteTime": {
     "end_time": "2024-02-15T15:57:21.470064Z",
     "start_time": "2024-02-15T15:57:21.467923Z"
    }
   },
   "outputs": [
    {
     "data": {
      "text/plain": "30"
     },
     "execution_count": 68,
     "metadata": {},
     "output_type": "execute_result"
    }
   ],
   "source": [
    "len(bigbox)"
   ]
  },
  {
   "cell_type": "code",
   "execution_count": 69,
   "id": "814dac9a-ecab-41be-9ace-a765e893b886",
   "metadata": {
    "ExecuteTime": {
     "end_time": "2024-02-15T15:57:21.471396Z",
     "start_time": "2024-02-15T15:57:21.469963Z"
    }
   },
   "outputs": [],
   "source": [
    "del bigbox[0:3]"
   ]
  },
  {
   "cell_type": "code",
   "execution_count": 70,
   "id": "cbf4c815-94f9-499e-a6e3-b84a8e07ea8a",
   "metadata": {
    "ExecuteTime": {
     "end_time": "2024-02-15T15:57:21.472952Z",
     "start_time": "2024-02-15T15:57:21.471846Z"
    }
   },
   "outputs": [],
   "source": [
    "productlink = \"https://www.flipkart.com\" + bigbox[0].div.div.div.a['href']"
   ]
  },
  {
   "cell_type": "code",
   "execution_count": 71,
   "id": "317673bb-67f5-48e6-81a4-a9d6f77e10c8",
   "metadata": {
    "ExecuteTime": {
     "end_time": "2024-02-15T15:57:21.500653Z",
     "start_time": "2024-02-15T15:57:21.478717Z"
    }
   },
   "outputs": [
    {
     "name": "stdout",
     "output_type": "stream",
     "text": [
      "https://www.flipkart.com/mi-series-108-cm-43-inch-full-hd-led-smart-google-tv-2023-fhd-dolby-audio-dts-virtual-x-vivid-picture-engine/p/itm176a053974853?pid=TVSGREPA7DYQRRJ7&lid=LSTTVSGREPA7DYQRRJ7VBIQMN&marketplace=FLIPKART&q=tv&store=ckf%2Fczl&srno=s_1_2&otracker=search&fm=organic&iid=en_P8NYYylm1D5kkQyu2iU6c4y7-c2rgA_N3oXH5C-tGNI52JHf1NEYmlZ8lFXRKPivPrlnG_ZvoPLMMVFmV5DO0fUFjCTyOHoHZs-Z5_PS_w0%3D&ppt=None&ppn=None&ssid=8o5urewbio0000001711541112342&qH=c9a1fdac6e082dd8\n",
      "https://www.flipkart.com/lg-80-cm-32-inch-hd-ready-led-smart-webos-tv/p/itmb2ff267644902?pid=TVSGC8FKBCFFBFT7&lid=LSTTVSGC8FKBCFFBFT78ATBNW&marketplace=FLIPKART&q=tv&store=ckf%2Fczl&spotlightTagId=BestsellerId_ckf%2Fczl&srno=s_1_3&otracker=search&fm=organic&iid=3624be66-59de-4ffd-9766-833ee3551244.TVSGC8FKBCFFBFT7.SEARCH&ppt=None&ppn=None&ssid=8o5urewbio0000001711541112342&qH=c9a1fdac6e082dd8\n",
      "https://www.flipkart.com/mi-series-80-cm-32-inch-hd-ready-led-smart-google-tv-2023-dolby-audio-dts-hd-vivid-picture-engine/p/itmf15b4727d84f5?pid=TVSGREPAZX8CN9QS&lid=LSTTVSGREPAZX8CN9QSFY3T6T&marketplace=FLIPKART&q=tv&store=ckf%2Fczl&spotlightTagId=BestsellerId_ckf%2Fczl&srno=s_1_4&otracker=search&fm=organic&iid=3624be66-59de-4ffd-9766-833ee3551244.TVSGREPAZX8CN9QS.SEARCH&ppt=None&ppn=None&ssid=8o5urewbio0000001711541112342&qH=c9a1fdac6e082dd8\n",
      "https://www.flipkart.com/thomson-alpha-80-cm-32-inch-hd-ready-led-smart-linux-tv-30-w-sound-output-bezel-less-design/p/itmbbd33333c58bb?pid=TVSGEMQV7R4CMTGA&lid=LSTTVSGEMQV7R4CMTGAODWDFI&marketplace=FLIPKART&q=tv&store=ckf%2Fczl&srno=s_1_5&otracker=search&fm=organic&iid=3624be66-59de-4ffd-9766-833ee3551244.TVSGEMQV7R4CMTGA.SEARCH&ppt=None&ppn=None&ssid=8o5urewbio0000001711541112342&qH=c9a1fdac6e082dd8\n",
      "https://www.flipkart.com/thomson-fa-series-80-cm-32-inch-hd-ready-led-smart-android-tv-2023-dolby-digital-plus-11/p/itmd1f23f51d665c?pid=TVSGZ8GQEPCENXHC&lid=LSTTVSGZ8GQEPCENXHCH5HUZX&marketplace=FLIPKART&q=tv&store=ckf%2Fczl&srno=s_1_6&otracker=search&fm=organic&iid=3624be66-59de-4ffd-9766-833ee3551244.TVSGZ8GQEPCENXHC.SEARCH&ppt=None&ppn=None&ssid=8o5urewbio0000001711541112342&qH=c9a1fdac6e082dd8\n",
      "https://www.flipkart.com/marq-flipkart-80-cm-32-inch-hd-ready-led-smart-coolita-tv/p/itm7ae0cc4128a8c?pid=TVSGQTE6UPCYTDHQ&lid=LSTTVSGQTE6UPCYTDHQ2IYTQS&marketplace=FLIPKART&q=tv&store=ckf%2Fczl&srno=s_1_7&otracker=search&fm=organic&iid=en_P8NYYylm1D5kkQyu2iU6c4y7-c2rgA_N3oXH5C-tGNJspVX5MO8xOc6Lp3PYSTMvuEF4aCUhIDnqaRo3cPNVVA%3D%3D&ppt=None&ppn=None&ssid=8o5urewbio0000001711541112342&qH=c9a1fdac6e082dd8\n",
      "https://www.flipkart.com/innoq-2024-frameless-80-cm-32-inch-hd-ready-led-tv-vga-monitor-port-30w-thunder-speakers-ultra-bright-panel-wide-angle-view-edge-series/p/itm43f3303d7f5f3?pid=TVSGYWZHCEH7ARWB&lid=LSTTVSGYWZHCEH7ARWBACO6PO&marketplace=FLIPKART&q=tv&store=ckf%2Fczl&srno=s_1_8&otracker=search&fm=organic&iid=en_P8NYYylm1D5kkQyu2iU6c4y7-c2rgA_N3oXH5C-tGNJYiYUoTJyNPdKOkc8n0k5xHeDVfPBWcJbW17pVIOEX4A%3D%3D&ppt=None&ppn=None&ssid=8o5urewbio0000001711541112342&qH=c9a1fdac6e082dd8\n",
      "https://www.flipkart.com/thomson-alpha-60-cm-24-inch-hd-ready-led-smart-linux-tv-2023-20-w-sound-output/p/itm8e1f318f88ccc?pid=TVSGMGWWZYMMPG83&lid=LSTTVSGMGWWZYMMPG83APKNG2&marketplace=FLIPKART&q=tv&store=ckf%2Fczl&srno=s_1_9&otracker=search&fm=organic&iid=3624be66-59de-4ffd-9766-833ee3551244.TVSGMGWWZYMMPG83.SEARCH&ppt=None&ppn=None&ssid=8o5urewbio0000001711541112342&qH=c9a1fdac6e082dd8\n",
      "https://www.flipkart.com/samsung-crystal-vision-4k-ismart-voice-assistant-108-cm-43-inch-ultra-hd-4k-led-smart-tizen-tv-2023-iot-sensors-light-camera/p/itm0aa7ed39f32ea?pid=TVSGRNGZGWNFGCZM&lid=LSTTVSGRNGZGWNFGCZMTFVV78&marketplace=FLIPKART&q=tv&store=ckf%2Fczl&srno=s_1_10&otracker=search&fm=organic&iid=3624be66-59de-4ffd-9766-833ee3551244.TVSGRNGZGWNFGCZM.SEARCH&ppt=None&ppn=None&ssid=8o5urewbio0000001711541112342&qH=c9a1fdac6e082dd8\n",
      "https://www.flipkart.com/blaupunkt-cybersound-g2-series-80-cm-32-inch-hd-ready-led-smart-android-tv-2023-dolby-digital-plus-40-w-sound-output/p/itm4a4c48379c152?pid=TVSGQFRY28WQPTFW&lid=LSTTVSGQFRY28WQPTFWWULMMJ&marketplace=FLIPKART&q=tv&store=ckf%2Fczl&srno=s_1_11&otracker=search&fm=organic&iid=en_P8NYYylm1D5kkQyu2iU6c4y7-c2rgA_N3oXH5C-tGNJoB1N-6Ab5cDCqnIOXZ7k-KRdZ85zvtRlppPIEeCQKG4nfEY2D5bWfIUmTlXs_oiU%3D&ppt=None&ppn=None&ssid=8o5urewbio0000001711541112342&qH=c9a1fdac6e082dd8\n",
      "https://www.flipkart.com/thomson-139-cm-55-inch-qled-ultra-hd-4k-smart-google-tv-dolby-vision-atmos/p/itm1d6dfb474afdf?pid=TVSGHADTWPTJCMP7&lid=LSTTVSGHADTWPTJCMP7MLGWNV&marketplace=FLIPKART&q=tv&store=ckf%2Fczl&srno=s_1_12&otracker=search&fm=organic&iid=en_P8NYYylm1D5kkQyu2iU6c4y7-c2rgA_N3oXH5C-tGNKgNfMVWtiUbEtK7RRPFVuArs19Coqqn_Y7HqYAZW2zDWVkv0XZFiOX7bbXdlao_f8%3D&ppt=None&ppn=None&ssid=8o5urewbio0000001711541112342&qH=c9a1fdac6e082dd8\n",
      "https://www.flipkart.com/mi-x-series-108-cm-43-inch-ultra-hd-4k-led-smart-google-tv-2023-4k-dolby-vision-hdr-10-audio-dts-dts-virtual-vivid-picture-engine/p/itm711e2d52b862e?pid=TVSGREPACR6KEVFG&lid=LSTTVSGREPACR6KEVFGMYWYNK&marketplace=FLIPKART&q=tv&store=ckf%2Fczl&srno=s_1_13&otracker=search&fm=organic&iid=3624be66-59de-4ffd-9766-833ee3551244.TVSGREPACR6KEVFG.SEARCH&ppt=None&ppn=None&ssid=8o5urewbio0000001711541112342&qH=c9a1fdac6e082dd8\n",
      "https://www.flipkart.com/samsung-108-cm-43-inch-full-hd-led-smart-tizen-tv-2023/p/itm1f514be8d5bad?pid=TVSGRS7GYVN3UZNZ&lid=LSTTVSGRS7GYVN3UZNZULGKSS&marketplace=FLIPKART&q=tv&store=ckf%2Fczl&srno=s_1_14&otracker=search&fm=organic&iid=3624be66-59de-4ffd-9766-833ee3551244.TVSGRS7GYVN3UZNZ.SEARCH&ppt=None&ppn=None&ssid=8o5urewbio0000001711541112342&qH=c9a1fdac6e082dd8\n",
      "https://www.flipkart.com/samsung-80-cm-32-inch-hd-ready-led-smart-tizen-tv-bezel-free-design/p/itm33b1495b9e937?pid=TVSGHY2UZA9YHWQN&lid=LSTTVSGHY2UZA9YHWQNCPAW6M&marketplace=FLIPKART&q=tv&store=ckf%2Fczl&spotlightTagId=BestsellerId_ckf%2Fczl&srno=s_1_15&otracker=search&fm=organic&iid=3624be66-59de-4ffd-9766-833ee3551244.TVSGHY2UZA9YHWQN.SEARCH&ppt=None&ppn=None&ssid=8o5urewbio0000001711541112342&qH=c9a1fdac6e082dd8\n",
      "https://www.flipkart.com/acer-advanced-series-80-01-cm-32-inch-hd-ready-led-smart-google-tv-2023-1-5gb-ram-16gb-storage-30w-dolby-audio/p/itm0c05938ae43f0?pid=TVSGPGXBKAZWM2U9&lid=LSTTVSGPGXBKAZWM2U9ZZRDBT&marketplace=FLIPKART&q=tv&store=ckf%2Fczl&srno=s_1_16&otracker=search&fm=organic&iid=3624be66-59de-4ffd-9766-833ee3551244.TVSGPGXBKAZWM2U9.SEARCH&ppt=None&ppn=None&ssid=8o5urewbio0000001711541112342&qH=c9a1fdac6e082dd8\n",
      "https://www.flipkart.com/tcl-p635-164-cm-65-inch-ultra-hd-4k-led-smart-google-tv-dolby-audio-hdr10/p/itmcbc00597aa857?pid=TVSGJYAZHHMBRWAN&lid=LSTTVSGJYAZHHMBRWAN8TQBH9&marketplace=FLIPKART&q=tv&store=ckf%2Fczl&srno=s_1_17&otracker=search&fm=organic&iid=en_P8NYYylm1D5kkQyu2iU6c4y7-c2rgA_N3oXH5C-tGNKtuk9PgZuLb5Km7bmm7fYA8ElpfuzkwFzxw6-dZEB5gssrgPW5YLzJU0_H6_RHKR0%3D&ppt=None&ppn=None&ssid=8o5urewbio0000001711541112342&qH=c9a1fdac6e082dd8\n",
      "https://www.flipkart.com/iffalcon-tcl-126-cm-50-inch-qled-ultra-hd-4k-smart-google-tv-dolby-atmos-vision-hdr10/p/itme1332457779f1?pid=TVSGQYX2W4XGCTVK&lid=LSTTVSGQYX2W4XGCTVKFEDS3Y&marketplace=FLIPKART&q=tv&store=ckf%2Fczl&srno=s_1_18&otracker=search&fm=organic&iid=en_P8NYYylm1D5kkQyu2iU6c4y7-c2rgA_N3oXH5C-tGNL6JFL2qVLUMfQEyViFmGknZoBZaUssqWJBGq8MqXta_8DbPjpExlWhmpgUQnOg2ao%3D&ppt=None&ppn=None&ssid=8o5urewbio0000001711541112342&qH=c9a1fdac6e082dd8\n",
      "https://www.flipkart.com/acer-advanced-series-102-cm-40-inch-full-hd-led-smart-google-tv-2023-1-5gb-ram-16gb-storage-30w-dolby-audio/p/itme43d0ff0dabbf?pid=TVSGPGXBCEPEZH2Q&lid=LSTTVSGPGXBCEPEZH2Q2NPGRM&marketplace=FLIPKART&q=tv&store=ckf%2Fczl&srno=s_1_19&otracker=search&fm=organic&iid=3624be66-59de-4ffd-9766-833ee3551244.TVSGPGXBCEPEZH2Q.SEARCH&ppt=None&ppn=None&ssid=8o5urewbio0000001711541112342&qH=c9a1fdac6e082dd8\n",
      "https://www.flipkart.com/thomson-9a-series-80-cm-32-inch-hd-ready-led-smart-android-tv/p/itmf308ee864c4df?pid=TVSFUYG8KB8GZAZA&lid=LSTTVSFUYG8KB8GZAZA5MM6VE&marketplace=FLIPKART&q=tv&store=ckf%2Fczl&srno=s_1_20&otracker=search&fm=organic&iid=3624be66-59de-4ffd-9766-833ee3551244.TVSFUYG8KB8GZAZA.SEARCH&ppt=None&ppn=None&ssid=8o5urewbio0000001711541112342&qH=c9a1fdac6e082dd8\n",
      "https://www.flipkart.com/thomson-164-cm-65-inch-qled-ultra-hd-4k-smart-google-tv-dolby-vision-atmos/p/itm3c9e6c7cdcf4e?pid=TVSGHADTPGMHTJMH&lid=LSTTVSGHADTPGMHTJMHCV0X9I&marketplace=FLIPKART&q=tv&store=ckf%2Fczl&srno=s_1_21&otracker=search&fm=organic&iid=en_P8NYYylm1D5kkQyu2iU6c4y7-c2rgA_N3oXH5C-tGNLAVSYqeO7lO1WWR9YPYKEKiJShNEJxWupCoE9K5B9utIE8waCTrWcncKeK_ydPfoM%3D&ppt=None&ppn=None&ssid=8o5urewbio0000001711541112342&qH=c9a1fdac6e082dd8\n",
      "https://www.flipkart.com/blaupunkt-quantum-dot-108-cm-43-inch-qled-ultra-hd-4k-smart-google-tv-dolby-vision-50w-sound-output/p/itm2d49ef5a63a8c?pid=TVSGSHZRAYDWF6ZF&lid=LSTTVSGSHZRAYDWF6ZFMDAM81&marketplace=FLIPKART&q=tv&store=ckf%2Fczl&srno=s_1_22&otracker=search&fm=organic&iid=en_P8NYYylm1D5kkQyu2iU6c4y7-c2rgA_N3oXH5C-tGNKuLT99lBmtbyPq1vgxRmv-ipt9j7f2UeQI6_IuRCTeMU4IsYyWu-Pj9cxFjFAoaLk%3D&ppt=None&ppn=None&ssid=8o5urewbio0000001711541112342&qH=c9a1fdac6e082dd8\n",
      "https://www.flipkart.com/lg-80-cm-32-inch-hd-ready-led-smart-webos-tv-2023-a5-ai-processor-gen5-refresh-rate-60-hertz-magic-remote-capability/p/itmf3b681525947c?pid=TVSGS8GYDQXWP8QX&lid=LSTTVSGS8GYDQXWP8QX2GXHQP&marketplace=FLIPKART&q=tv&store=ckf%2Fczl&srno=s_1_23&otracker=search&fm=organic&iid=3624be66-59de-4ffd-9766-833ee3551244.TVSGS8GYDQXWP8QX.SEARCH&ppt=None&ppn=None&ssid=8o5urewbio0000001711541112342&qH=c9a1fdac6e082dd8\n",
      "https://www.flipkart.com/mi-series-100-cm-40-inch-full-hd-led-smart-google-tv-2023-fhd-dolby-audio-dts-virtual-x-vivid-picture-engine/p/itm1108e4dd54833?pid=TVSGREPAWWQF4TD8&lid=LSTTVSGREPAWWQF4TD8TD4CFK&marketplace=FLIPKART&q=tv&store=ckf%2Fczl&srno=s_1_24&otracker=search&fm=organic&iid=3624be66-59de-4ffd-9766-833ee3551244.TVSGREPAWWQF4TD8.SEARCH&ppt=None&ppn=None&ssid=8o5urewbio0000001711541112342&qH=c9a1fdac6e082dd8\n"
     ]
    },
    {
     "ename": "AttributeError",
     "evalue": "'NoneType' object has no attribute 'a'",
     "output_type": "error",
     "traceback": [
      "\u001B[0;31m---------------------------------------------------------------------------\u001B[0m",
      "\u001B[0;31mAttributeError\u001B[0m                            Traceback (most recent call last)",
      "Cell \u001B[0;32mIn[71], line 2\u001B[0m\n\u001B[1;32m      1\u001B[0m \u001B[38;5;28;01mfor\u001B[39;00m i \u001B[38;5;129;01min\u001B[39;00m bigbox:\n\u001B[0;32m----> 2\u001B[0m     \u001B[38;5;28mprint\u001B[39m(\u001B[38;5;124m\"\u001B[39m\u001B[38;5;124mhttps://www.flipkart.com\u001B[39m\u001B[38;5;124m\"\u001B[39m \u001B[38;5;241m+\u001B[39m \u001B[43mi\u001B[49m\u001B[38;5;241;43m.\u001B[39;49m\u001B[43mdiv\u001B[49m\u001B[38;5;241;43m.\u001B[39;49m\u001B[43mdiv\u001B[49m\u001B[38;5;241;43m.\u001B[39;49m\u001B[43mdiv\u001B[49m\u001B[38;5;241;43m.\u001B[39;49m\u001B[43ma\u001B[49m[\u001B[38;5;124m'\u001B[39m\u001B[38;5;124mhref\u001B[39m\u001B[38;5;124m'\u001B[39m])\n",
      "\u001B[0;31mAttributeError\u001B[0m: 'NoneType' object has no attribute 'a'"
     ]
    }
   ],
   "source": [
    "for i in bigbox:\n",
    "    print(\"https://www.flipkart.com\" + i.div.div.div.a['href'])\n",
    "    "
   ]
  },
  {
   "cell_type": "code",
   "execution_count": 72,
   "id": "121e467f-4b56-419d-a508-7b1056454983",
   "metadata": {
    "ExecuteTime": {
     "end_time": "2024-02-15T15:57:21.543566Z",
     "start_time": "2024-02-15T15:57:21.538196Z"
    }
   },
   "outputs": [
    {
     "data": {
      "text/plain": "'https://www.flipkart.com/mi-series-108-cm-43-inch-full-hd-led-smart-google-tv-2023-fhd-dolby-audio-dts-virtual-x-vivid-picture-engine/p/itm176a053974853?pid=TVSGREPA7DYQRRJ7&lid=LSTTVSGREPA7DYQRRJ7VBIQMN&marketplace=FLIPKART&q=tv&store=ckf%2Fczl&srno=s_1_2&otracker=search&fm=organic&iid=en_P8NYYylm1D5kkQyu2iU6c4y7-c2rgA_N3oXH5C-tGNI52JHf1NEYmlZ8lFXRKPivPrlnG_ZvoPLMMVFmV5DO0fUFjCTyOHoHZs-Z5_PS_w0%3D&ppt=None&ppn=None&ssid=8o5urewbio0000001711541112342&qH=c9a1fdac6e082dd8'"
     },
     "execution_count": 72,
     "metadata": {},
     "output_type": "execute_result"
    }
   ],
   "source": [
    "productlink"
   ]
  },
  {
   "cell_type": "code",
   "execution_count": 73,
   "id": "a40d855a-a389-4f6f-abad-3e15ff7713e4",
   "metadata": {
    "ExecuteTime": {
     "end_time": "2024-02-15T15:57:36.465604Z",
     "start_time": "2024-02-15T15:57:34.496509Z"
    }
   },
   "outputs": [],
   "source": [
    "procuct_req = requests.get(productlink)"
   ]
  },
  {
   "cell_type": "code",
   "execution_count": 74,
   "id": "ae33159d-186e-4f6f-b4cb-e1565f0186bf",
   "metadata": {
    "ExecuteTime": {
     "end_time": "2024-02-15T15:57:44.985416Z",
     "start_time": "2024-02-15T15:57:44.956228Z"
    }
   },
   "outputs": [],
   "source": [
    "product_html = bs(procuct_req.text,'html.parser')"
   ]
  },
  {
   "cell_type": "code",
   "execution_count": 75,
   "id": "32d59cba-4388-4a3f-9baa-498efed56148",
   "metadata": {},
   "outputs": [],
   "source": [
    "coment_box = product_html.find_all(\"div\",{\"class\":\"_16PBlm\"})"
   ]
  },
  {
   "cell_type": "code",
   "execution_count": 76,
   "id": "424914bb-a86a-4f8b-862f-e6faf0ab1019",
   "metadata": {},
   "outputs": [
    {
     "data": {
      "text/plain": "0"
     },
     "execution_count": 76,
     "metadata": {},
     "output_type": "execute_result"
    }
   ],
   "source": [
    "len(coment_box)"
   ]
  },
  {
   "cell_type": "code",
   "execution_count": 77,
   "id": "adfa3e5f-48c6-46f7-9f38-ac7b2675d949",
   "metadata": {},
   "outputs": [
    {
     "ename": "IndexError",
     "evalue": "list index out of range",
     "output_type": "error",
     "traceback": [
      "\u001B[0;31m---------------------------------------------------------------------------\u001B[0m",
      "\u001B[0;31mIndexError\u001B[0m                                Traceback (most recent call last)",
      "Cell \u001B[0;32mIn[77], line 1\u001B[0m\n\u001B[0;32m----> 1\u001B[0m \u001B[43mcoment_box\u001B[49m\u001B[43m[\u001B[49m\u001B[38;5;241;43m0\u001B[39;49m\u001B[43m]\u001B[49m\u001B[38;5;241m.\u001B[39mdiv\u001B[38;5;241m.\u001B[39mdiv\u001B[38;5;241m.\u001B[39mfind_all(\u001B[38;5;124m\"\u001B[39m\u001B[38;5;124mp\u001B[39m\u001B[38;5;124m\"\u001B[39m,{\u001B[38;5;124m\"\u001B[39m\u001B[38;5;124mclass\u001B[39m\u001B[38;5;124m\"\u001B[39m:\u001B[38;5;124m\"\u001B[39m\u001B[38;5;124m_2sc7ZR _2V5EHH\u001B[39m\u001B[38;5;124m\"\u001B[39m})[\u001B[38;5;241m0\u001B[39m]\u001B[38;5;241m.\u001B[39mtext\n",
      "\u001B[0;31mIndexError\u001B[0m: list index out of range"
     ]
    }
   ],
   "source": [
    "coment_box[0].div.div.find_all(\"p\",{\"class\":\"_2sc7ZR _2V5EHH\"})[0].text"
   ]
  },
  {
   "cell_type": "code",
   "execution_count": null,
   "id": "b8539076-6191-47f1-b3fa-527967bf304a",
   "metadata": {},
   "outputs": [],
   "source": [
    "for i in coment_box:\n",
    "    print(i.div.div.find_all(\"p\",{\"class\":\"_2sc7ZR _2V5EHH\"})[0].text)"
   ]
  },
  {
   "cell_type": "code",
   "execution_count": null,
   "id": "7d42338a-9d11-448a-866f-3d098090fee4",
   "metadata": {},
   "outputs": [],
   "source": [
    "for i in coment_box:\n",
    "    print(i.div.div.div.div.text)"
   ]
  },
  {
   "cell_type": "code",
   "execution_count": null,
   "id": "d605e39b-1e78-410f-a81f-c398acd9a9ef",
   "metadata": {},
   "outputs": [],
   "source": [
    "coment_box[0].div.div.div.p.text\n"
   ]
  },
  {
   "cell_type": "code",
   "execution_count": null,
   "id": "97181efc-5bd5-4998-ab35-7512f82af7ae",
   "metadata": {},
   "outputs": [],
   "source": [
    "for i in coment_box:\n",
    "    print(i.div.div.div.p.text )"
   ]
  },
  {
   "cell_type": "code",
   "execution_count": null,
   "id": "7e899af2-c04e-4c9e-952b-c319d77f84fc",
   "metadata": {},
   "outputs": [],
   "source": [
    "coment_box[0].div.div.find_all(\"div\",{\"class\":\"\"})[0].text\n"
   ]
  },
  {
   "cell_type": "code",
   "execution_count": null,
   "id": "737a2b0d-4508-4f1d-922e-51c6297f0718",
   "metadata": {},
   "outputs": [],
   "source": [
    "for i in coment_box:\n",
    "    print(i.div.div.find_all(\"div\",{\"class\":\"\"})[0].text)"
   ]
  },
  {
   "cell_type": "code",
   "execution_count": null,
   "id": "920ea651-6489-4e32-8900-e3e4b3c05794",
   "metadata": {},
   "outputs": [],
   "source": []
  }
 ],
 "metadata": {
  "kernelspec": {
   "display_name": "Python 3 (ipykernel)",
   "language": "python",
   "name": "python3"
  },
  "language_info": {
   "codemirror_mode": {
    "name": "ipython",
    "version": 3
   },
   "file_extension": ".py",
   "mimetype": "text/x-python",
   "name": "python",
   "nbconvert_exporter": "python",
   "pygments_lexer": "ipython3",
   "version": "3.10.8"
  }
 },
 "nbformat": 4,
 "nbformat_minor": 5
}
